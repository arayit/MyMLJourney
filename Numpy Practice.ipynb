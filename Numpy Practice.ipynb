{
 "cells": [
  {
   "cell_type": "code",
   "execution_count": 1,
   "id": "ae17ff53",
   "metadata": {},
   "outputs": [],
   "source": [
    "import numpy as np"
   ]
  },
  {
   "cell_type": "code",
   "execution_count": 2,
   "id": "00c4ccb9",
   "metadata": {},
   "outputs": [],
   "source": [
    "np.random.seed(0)"
   ]
  },
  {
   "cell_type": "code",
   "execution_count": null,
   "id": "f071911c",
   "metadata": {},
   "outputs": [],
   "source": [
    "#Create a NumPy array with 10 random integers between 1 and 100.\n"
   ]
  },
  {
   "cell_type": "code",
   "execution_count": 71,
   "id": "2d243912",
   "metadata": {},
   "outputs": [
    {
     "data": {
      "text/plain": [
       "array([32, 31, 74, 23, 35, 75, 55, 28, 34,  0])"
      ]
     },
     "execution_count": 71,
     "metadata": {},
     "output_type": "execute_result"
    }
   ],
   "source": [
    "x = np.random.randint(0, 100, (10))\n",
    "x"
   ]
  },
  {
   "cell_type": "code",
   "execution_count": null,
   "id": "841eab3e",
   "metadata": {},
   "outputs": [],
   "source": [
    "#Calculate the mean, median, and standard deviation of the array.\n"
   ]
  },
  {
   "cell_type": "code",
   "execution_count": 72,
   "id": "9116a546",
   "metadata": {},
   "outputs": [],
   "source": [
    "mean = np.mean(x)\n",
    "standart_deviation = np.std(x)\n",
    "median = np.median(x)"
   ]
  },
  {
   "cell_type": "code",
   "execution_count": null,
   "id": "a2e31af9",
   "metadata": {},
   "outputs": [],
   "source": [
    "#Reshape the array into a 2D matrix of shape (2, 5).\n"
   ]
  },
  {
   "cell_type": "code",
   "execution_count": 73,
   "id": "2add7ce6",
   "metadata": {},
   "outputs": [
    {
     "data": {
      "text/plain": [
       "array([[32, 31, 74, 23, 35],\n",
       "       [75, 55, 28, 34,  0]])"
      ]
     },
     "execution_count": 73,
     "metadata": {},
     "output_type": "execute_result"
    }
   ],
   "source": [
    "x = x.reshape((2,5))\n",
    "x"
   ]
  },
  {
   "cell_type": "code",
   "execution_count": null,
   "id": "92ec48ed",
   "metadata": {},
   "outputs": [],
   "source": [
    "#Extract the second row of the matrix.\n"
   ]
  },
  {
   "cell_type": "code",
   "execution_count": 74,
   "id": "2e7246b5",
   "metadata": {},
   "outputs": [
    {
     "data": {
      "text/plain": [
       "array([75, 55, 28, 34,  0])"
      ]
     },
     "execution_count": 74,
     "metadata": {},
     "output_type": "execute_result"
    }
   ],
   "source": [
    "x2 = x[1,:]\n",
    "x2"
   ]
  },
  {
   "cell_type": "code",
   "execution_count": 76,
   "id": "d1dd99ae",
   "metadata": {},
   "outputs": [
    {
     "data": {
      "text/plain": [
       "array([[32, 31, 74, 23, 35],\n",
       "       [75, 55, 28, 34,  0]])"
      ]
     },
     "execution_count": 76,
     "metadata": {},
     "output_type": "execute_result"
    }
   ],
   "source": [
    "x"
   ]
  },
  {
   "cell_type": "code",
   "execution_count": null,
   "id": "9699d5da",
   "metadata": {},
   "outputs": [],
   "source": [
    "#Replace all odd numbers in the matrix with zeros.\n"
   ]
  },
  {
   "cell_type": "code",
   "execution_count": 82,
   "id": "c0a9f75f",
   "metadata": {},
   "outputs": [
    {
     "data": {
      "text/plain": [
       "array([[32,  0, 74,  0,  0],\n",
       "       [ 0,  0, 28, 34,  0]])"
      ]
     },
     "execution_count": 82,
     "metadata": {},
     "output_type": "execute_result"
    }
   ],
   "source": [
    "for index, element in np.ndenumerate(x%2):\n",
    "    if element != 0:\n",
    "        x[index] = 0\n",
    "x"
   ]
  },
  {
   "cell_type": "code",
   "execution_count": 96,
   "id": "86535eb6",
   "metadata": {},
   "outputs": [
    {
     "data": {
      "text/plain": [
       "array([[19, 46, 42, 56, 60],\n",
       "       [77, 30, 24,  2,  3]])"
      ]
     },
     "execution_count": 96,
     "metadata": {},
     "output_type": "execute_result"
    }
   ],
   "source": [
    "x = np.random.randint(0, 100, (2,5))\n",
    "x"
   ]
  },
  {
   "cell_type": "code",
   "execution_count": null,
   "id": "e376a0af",
   "metadata": {},
   "outputs": [],
   "source": [
    "#Calculate the sum of each column in the matrix.\n"
   ]
  },
  {
   "cell_type": "code",
   "execution_count": 114,
   "id": "717c9ec3",
   "metadata": {},
   "outputs": [
    {
     "name": "stdout",
     "output_type": "stream",
     "text": [
      "96\n",
      "76\n",
      "66\n",
      "58\n",
      "63\n"
     ]
    }
   ],
   "source": [
    "for i in range(x.shape[1]):\n",
    "    subarray = x[:,i]\n",
    "    print(np.sum(subarray))"
   ]
  },
  {
   "cell_type": "code",
   "execution_count": null,
   "id": "827d593e",
   "metadata": {},
   "outputs": [],
   "source": [
    "#Multiply the matrix by a scalar value of your choice.\n"
   ]
  },
  {
   "cell_type": "code",
   "execution_count": 127,
   "id": "1f5a452a",
   "metadata": {},
   "outputs": [
    {
     "data": {
      "text/plain": [
       "array([[ 57, 138, 126, 168, 180],\n",
       "       [231,  90,  72,   6,   9]])"
      ]
     },
     "execution_count": 127,
     "metadata": {},
     "output_type": "execute_result"
    }
   ],
   "source": [
    "x * 3"
   ]
  },
  {
   "cell_type": "code",
   "execution_count": null,
   "id": "42794002",
   "metadata": {},
   "outputs": [],
   "source": [
    "#Calculate the dot product of the matrix with its transpose.\n"
   ]
  },
  {
   "cell_type": "code",
   "execution_count": 122,
   "id": "516875fb",
   "metadata": {
    "scrolled": true
   },
   "outputs": [
    {
     "data": {
      "text/plain": [
       "array([[10977,  4143],\n",
       "       [ 4143,  7418]])"
      ]
     },
     "execution_count": 122,
     "metadata": {},
     "output_type": "execute_result"
    }
   ],
   "source": [
    "x.dot(np.transpose(x))"
   ]
  },
  {
   "cell_type": "code",
   "execution_count": null,
   "id": "e0e2454a",
   "metadata": {},
   "outputs": [],
   "source": [
    "#Create a boolean mask that identifies values in the matrix greater than 50."
   ]
  },
  {
   "cell_type": "code",
   "execution_count": 136,
   "id": "95812752",
   "metadata": {},
   "outputs": [
    {
     "data": {
      "text/plain": [
       "array([[False, False, False,  True,  True],\n",
       "       [ True, False, False, False, False]])"
      ]
     },
     "execution_count": 136,
     "metadata": {},
     "output_type": "execute_result"
    }
   ],
   "source": [
    "x > 50"
   ]
  },
  {
   "cell_type": "code",
   "execution_count": null,
   "id": "9c7cf251",
   "metadata": {},
   "outputs": [],
   "source": [
    "#Count the number of values in the matrix that are divisible by 5."
   ]
  },
  {
   "cell_type": "code",
   "execution_count": 135,
   "id": "c4ae2358",
   "metadata": {},
   "outputs": [
    {
     "name": "stdout",
     "output_type": "stream",
     "text": [
      "2\n"
     ]
    }
   ],
   "source": [
    "divisible_by_5_mask = x % 5 == 0\n",
    "\n",
    "count = np.count_nonzero(divisible_by_5_mask)\n",
    "\n",
    "print(count)"
   ]
  }
 ],
 "metadata": {
  "kernelspec": {
   "display_name": "Python 3 (ipykernel)",
   "language": "python",
   "name": "python3"
  },
  "language_info": {
   "codemirror_mode": {
    "name": "ipython",
    "version": 3
   },
   "file_extension": ".py",
   "mimetype": "text/x-python",
   "name": "python",
   "nbconvert_exporter": "python",
   "pygments_lexer": "ipython3",
   "version": "3.10.9"
  }
 },
 "nbformat": 4,
 "nbformat_minor": 5
}
